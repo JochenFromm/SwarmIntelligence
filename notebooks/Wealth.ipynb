{
 "cells": [
  {
   "cell_type": "markdown",
   "metadata": {},
   "source": [
    "## Agent-Based Model for Wealth\n",
    "Agent-Based model of sacrifices/taxes based on the affine wealth model from Bruce M. Boghosian"
   ]
  },
  {
   "cell_type": "code",
   "execution_count": 1,
   "metadata": {},
   "outputs": [],
   "source": [
    "import pandas as pd\n",
    "import numpy as np\n",
    "import random"
   ]
  },
  {
   "cell_type": "markdown",
   "metadata": {},
   "source": [
    "### The agents"
   ]
  },
  {
   "cell_type": "code",
   "execution_count": 2,
   "metadata": {},
   "outputs": [],
   "source": [
    "class Agent: \n",
    "  def __init__(self, money = 10.0, stake = 0.10):\n",
    "    self.wealth = money\n",
    "    self.stake = stake\n",
    "\n",
    "  def tax_wealth(self, rate):\n",
    "    taxes = self.wealth * rate\n",
    "    self.subtract_wealth(taxes)\n",
    "    return taxes\n",
    "\n",
    "  def subtract_wealth(self, amount):\n",
    "    self.wealth = self.wealth - amount\n",
    "\n",
    "  def add_wealth(self, amount):\n",
    "    self.wealth = self.wealth + amount\n",
    "              \n",
    "  def interact(self, opponent):\n",
    "    min_wealth = min(self.wealth, opponent.wealth)\n",
    "    stake = min_wealth * self.stake\n",
    "    flip = random.randint(0, 1)\n",
    "    if (flip == 0):\n",
    "      self.add_wealth(stake)\n",
    "      opponent.subtract_wealth(stake)\n",
    "    else:\n",
    "      self.subtract_wealth(stake)\n",
    "      opponent.add_wealth(stake)\n",
    "        "
   ]
  },
  {
   "cell_type": "code",
   "execution_count": 3,
   "metadata": {},
   "outputs": [
    {
     "name": "stdout",
     "output_type": "stream",
     "text": [
      "Agent A wealth 12.6209\n",
      "Agent B wealth 7.379099999999999\n"
     ]
    }
   ],
   "source": [
    "a = Agent()\n",
    "b = Agent()\n",
    "a.interact(b)\n",
    "a.interact(b)\n",
    "a.interact(b)\n",
    "a.interact(b)\n",
    "a.interact(b)\n",
    "print(\"Agent A wealth\", a.wealth)\n",
    "print(\"Agent B wealth\", b.wealth)"
   ]
  },
  {
   "cell_type": "markdown",
   "metadata": {},
   "source": [
    "### The agent based model"
   ]
  },
  {
   "cell_type": "code",
   "execution_count": 4,
   "metadata": {},
   "outputs": [],
   "source": [
    "class AgentBasedModel:\n",
    "  def __init__(self, n, rate = 0):\n",
    "    self.apply_taxes = rate > 0\n",
    "    self.tax_rate = rate\n",
    "    self.agents = n\n",
    "    self.model = []\n",
    "    self.data = []\n",
    "    for x in range(self.agents): self.model.append(Agent())\n",
    "        \n",
    "  def random_agent(self):\n",
    "    i = random.randrange(0, self.agents)\n",
    "    return self.model[i]\n",
    "\n",
    "  def play(self, timestep):\n",
    "      agent1 = self.random_agent()\n",
    "      agent2 = agent1\n",
    "      while (agent1 == agent2): \n",
    "        agent2 = self.random_agent()\n",
    "      agent1.interact(agent2)\n",
    "      \n",
    "      if self.apply_taxes:\n",
    "        taxed_agent = self.random_agent()\n",
    "        taxes = taxed_agent.tax_wealth(self.tax_rate) / self.agents\n",
    "        for x in range(self.agents):\n",
    "          agent = self.random_agent()\n",
    "          if agent != taxed_agent: agent.add_wealth(taxes) \n",
    "\n",
    "  def wealth_distribution(self):\n",
    "      distribution = [agent.wealth for agent in self.model]\n",
    "      return distribution\n",
    "\n",
    "  def run(self, timesteps):\n",
    "    for t in range(timesteps):\n",
    "      self.play(t)"
   ]
  },
  {
   "cell_type": "code",
   "execution_count": 5,
   "metadata": {},
   "outputs": [
    {
     "data": {
      "text/html": [
       "<div>\n",
       "<style scoped>\n",
       "    .dataframe tbody tr th:only-of-type {\n",
       "        vertical-align: middle;\n",
       "    }\n",
       "\n",
       "    .dataframe tbody tr th {\n",
       "        vertical-align: top;\n",
       "    }\n",
       "\n",
       "    .dataframe thead th {\n",
       "        text-align: right;\n",
       "    }\n",
       "</style>\n",
       "<table border=\"1\" class=\"dataframe\">\n",
       "  <thead>\n",
       "    <tr style=\"text-align: right;\">\n",
       "      <th></th>\n",
       "      <th>Wealth</th>\n",
       "    </tr>\n",
       "  </thead>\n",
       "  <tbody>\n",
       "    <tr>\n",
       "      <th>0</th>\n",
       "      <td>6.742367</td>\n",
       "    </tr>\n",
       "    <tr>\n",
       "      <th>1</th>\n",
       "      <td>13.287926</td>\n",
       "    </tr>\n",
       "    <tr>\n",
       "      <th>2</th>\n",
       "      <td>12.314418</td>\n",
       "    </tr>\n",
       "    <tr>\n",
       "      <th>3</th>\n",
       "      <td>8.712763</td>\n",
       "    </tr>\n",
       "    <tr>\n",
       "      <th>4</th>\n",
       "      <td>19.171660</td>\n",
       "    </tr>\n",
       "    <tr>\n",
       "      <th>5</th>\n",
       "      <td>9.513661</td>\n",
       "    </tr>\n",
       "    <tr>\n",
       "      <th>6</th>\n",
       "      <td>13.426095</td>\n",
       "    </tr>\n",
       "    <tr>\n",
       "      <th>7</th>\n",
       "      <td>6.544423</td>\n",
       "    </tr>\n",
       "    <tr>\n",
       "      <th>8</th>\n",
       "      <td>15.289689</td>\n",
       "    </tr>\n",
       "    <tr>\n",
       "      <th>9</th>\n",
       "      <td>10.722253</td>\n",
       "    </tr>\n",
       "  </tbody>\n",
       "</table>\n",
       "</div>"
      ],
      "text/plain": [
       "      Wealth\n",
       "0   6.742367\n",
       "1  13.287926\n",
       "2  12.314418\n",
       "3   8.712763\n",
       "4  19.171660\n",
       "5   9.513661\n",
       "6  13.426095\n",
       "7   6.544423\n",
       "8  15.289689\n",
       "9  10.722253"
      ]
     },
     "execution_count": 5,
     "metadata": {},
     "output_type": "execute_result"
    }
   ],
   "source": [
    "x_0 = AgentBasedModel(250, 0)\n",
    "x_0.run(50000)\n",
    "df_0 = pd.DataFrame(x_0.wealth_distribution(), columns=['Wealth'])\n",
    "\n",
    "x_1 = AgentBasedModel(250, 0.01)\n",
    "x_1.run(50000)\n",
    "df_1 = pd.DataFrame(x_1.wealth_distribution(), columns=['Wealth'])\n",
    "\n",
    "x_2 = AgentBasedModel(250, 0.02)\n",
    "x_2.run(50000)\n",
    "df_2 = pd.DataFrame(x_2.wealth_distribution(), columns=['Wealth'])\n",
    "\n",
    "x_3 = AgentBasedModel(250, 0.03)\n",
    "x_3.run(50000)\n",
    "df_3 = pd.DataFrame(x_3.wealth_distribution(), columns=['Wealth'])\n",
    "\n",
    "x_4 = AgentBasedModel(250, 0.04)\n",
    "x_4.run(50000)\n",
    "df_4 = pd.DataFrame(x_4.wealth_distribution(), columns=['Wealth'])\n",
    "\n",
    "\n",
    "df_4.head(10)"
   ]
  },
  {
   "cell_type": "code",
   "execution_count": 6,
   "metadata": {},
   "outputs": [
    {
     "data": {
      "text/html": [
       "<div>\n",
       "<style scoped>\n",
       "    .dataframe tbody tr th:only-of-type {\n",
       "        vertical-align: middle;\n",
       "    }\n",
       "\n",
       "    .dataframe tbody tr th {\n",
       "        vertical-align: top;\n",
       "    }\n",
       "\n",
       "    .dataframe thead th {\n",
       "        text-align: right;\n",
       "    }\n",
       "</style>\n",
       "<table border=\"1\" class=\"dataframe\">\n",
       "  <thead>\n",
       "    <tr style=\"text-align: right;\">\n",
       "      <th></th>\n",
       "      <th>Wealth</th>\n",
       "    </tr>\n",
       "    <tr>\n",
       "      <th>Wealth</th>\n",
       "      <th></th>\n",
       "    </tr>\n",
       "  </thead>\n",
       "  <tbody>\n",
       "    <tr>\n",
       "      <th>(0.0, 5.0]</th>\n",
       "      <td>131</td>\n",
       "    </tr>\n",
       "    <tr>\n",
       "      <th>(5.0, 10.0]</th>\n",
       "      <td>43</td>\n",
       "    </tr>\n",
       "    <tr>\n",
       "      <th>(10.0, 15.0]</th>\n",
       "      <td>23</td>\n",
       "    </tr>\n",
       "    <tr>\n",
       "      <th>(15.0, 20.0]</th>\n",
       "      <td>13</td>\n",
       "    </tr>\n",
       "    <tr>\n",
       "      <th>(20.0, 25.0]</th>\n",
       "      <td>8</td>\n",
       "    </tr>\n",
       "    <tr>\n",
       "      <th>(25.0, 30.0]</th>\n",
       "      <td>6</td>\n",
       "    </tr>\n",
       "    <tr>\n",
       "      <th>(30.0, 35.0]</th>\n",
       "      <td>9</td>\n",
       "    </tr>\n",
       "    <tr>\n",
       "      <th>(35.0, 40.0]</th>\n",
       "      <td>2</td>\n",
       "    </tr>\n",
       "    <tr>\n",
       "      <th>(40.0, 45.0]</th>\n",
       "      <td>5</td>\n",
       "    </tr>\n",
       "    <tr>\n",
       "      <th>(45.0, 50.0]</th>\n",
       "      <td>4</td>\n",
       "    </tr>\n",
       "    <tr>\n",
       "      <th>(50.0, 55.0]</th>\n",
       "      <td>0</td>\n",
       "    </tr>\n",
       "    <tr>\n",
       "      <th>(55.0, 60.0]</th>\n",
       "      <td>1</td>\n",
       "    </tr>\n",
       "    <tr>\n",
       "      <th>(60.0, 65.0]</th>\n",
       "      <td>4</td>\n",
       "    </tr>\n",
       "    <tr>\n",
       "      <th>(65.0, 70.0]</th>\n",
       "      <td>0</td>\n",
       "    </tr>\n",
       "    <tr>\n",
       "      <th>(70.0, 75.0]</th>\n",
       "      <td>0</td>\n",
       "    </tr>\n",
       "    <tr>\n",
       "      <th>(75.0, 80.0]</th>\n",
       "      <td>0</td>\n",
       "    </tr>\n",
       "    <tr>\n",
       "      <th>(80.0, 85.0]</th>\n",
       "      <td>1</td>\n",
       "    </tr>\n",
       "    <tr>\n",
       "      <th>(85.0, 90.0]</th>\n",
       "      <td>0</td>\n",
       "    </tr>\n",
       "    <tr>\n",
       "      <th>(90.0, 95.0]</th>\n",
       "      <td>0</td>\n",
       "    </tr>\n",
       "  </tbody>\n",
       "</table>\n",
       "</div>"
      ],
      "text/plain": [
       "              Wealth\n",
       "Wealth              \n",
       "(0.0, 5.0]       131\n",
       "(5.0, 10.0]       43\n",
       "(10.0, 15.0]      23\n",
       "(15.0, 20.0]      13\n",
       "(20.0, 25.0]       8\n",
       "(25.0, 30.0]       6\n",
       "(30.0, 35.0]       9\n",
       "(35.0, 40.0]       2\n",
       "(40.0, 45.0]       5\n",
       "(45.0, 50.0]       4\n",
       "(50.0, 55.0]       0\n",
       "(55.0, 60.0]       1\n",
       "(60.0, 65.0]       4\n",
       "(65.0, 70.0]       0\n",
       "(70.0, 75.0]       0\n",
       "(75.0, 80.0]       0\n",
       "(80.0, 85.0]       1\n",
       "(85.0, 90.0]       0\n",
       "(90.0, 95.0]       0"
      ]
     },
     "execution_count": 6,
     "metadata": {},
     "output_type": "execute_result"
    }
   ],
   "source": [
    "bins = np.arange(0,100.0,5)\n",
    "df_0.groupby(pd.cut(df_0.Wealth, bins)).count()"
   ]
  },
  {
   "cell_type": "code",
   "execution_count": 7,
   "metadata": {},
   "outputs": [
    {
     "name": "stdout",
     "output_type": "stream",
     "text": [
      "0% rate average Wealth    5.263012\n",
      "dtype: float64\n",
      "1% rate average Wealth    6.549778\n",
      "dtype: float64\n",
      "2% rate average Wealth    7.45862\n",
      "dtype: float64\n",
      "3% rate average Wealth    8.659643\n",
      "dtype: float64\n"
     ]
    }
   ],
   "source": [
    "avg_1 =  df_1[df_1.Wealth < 10].mean()\n",
    "avg_2 =  df_2[df_2.Wealth < 11].mean()\n",
    "avg_3 =  df_3[df_3.Wealth < 12].mean()\n",
    "avg_4 =  df_4[df_4.Wealth < 15].mean()\n",
    "print(\"0% rate average\", avg_1)\n",
    "print(\"1% rate average\", avg_2)\n",
    "print(\"2% rate average\", avg_3)\n",
    "print(\"3% rate average\", avg_4)"
   ]
  },
  {
   "cell_type": "code",
   "execution_count": 8,
   "metadata": {},
   "outputs": [
    {
     "data": {
      "image/png": "[encoded data removed]",
      "text/plain": [
       "<Figure size 432x288 with 1 Axes>"
      ]
     },
     "metadata": {
      "needs_background": "light"
     },
     "output_type": "display_data"
    }
   ],
   "source": [
    "%matplotlib inline\n",
    "import matplotlib as mpl\n",
    "import matplotlib.pyplot as plt\n",
    "\n",
    "from scipy.stats import pareto \n",
    "t = np.arange(0.9, 40., 0.5)\n",
    "R = pareto.pdf(x=t, b=0.3, loc=0, scale=0.1)\n",
    "p1 = plt.plot(t, R, label=\"Pareto Distribution\")\n",
    "p2 = plt.hist(df_0.Wealth, density=True, bins=30, label=\"Histogram\")\n",
    "plt.ylabel('Probability')\n",
    "plt.xlabel('Wealth')\n",
    "plt.title('No sacrifices or taxes')\n",
    "\n",
    "plt.legend()\n",
    "plt.show()"
   ]
  },
  {
   "cell_type": "code",
   "execution_count": 9,
   "metadata": {},
   "outputs": [
    {
     "data": {
      "image/png": "[encoded data removed]",
      "text/plain": [
       "<Figure size 432x288 with 1 Axes>"
      ]
     },
     "metadata": {
      "needs_background": "light"
     },
     "output_type": "display_data"
    }
   ],
   "source": [
    "mpl.use('svg')\n",
    "\n",
    "p1 = plt.plot(t, R, label=\"Pareto Distribution\")\n",
    "p2 = plt.hist(df_0.Wealth, density=True, bins=30, label=\"Histogram\")\n",
    "plt.ylabel('Probability')\n",
    "plt.xlabel('Wealth')\n",
    "plt.title('No sacrifices or taxes')\n",
    "plt.legend()\n",
    "\n",
    "plt.savefig(\"WealthDistributionNoTaxes.svg\", format=\"svg\")"
   ]
  },
  {
   "cell_type": "code",
   "execution_count": 10,
   "metadata": {},
   "outputs": [
    {
     "name": "stderr",
     "output_type": "stream",
     "text": [
      "/Users/jochenfromm/anaconda3/lib/python3.7/site-packages/ipykernel_launcher.py:25: UserWarning: Matplotlib is currently using svg, which is a non-GUI backend, so cannot show the figure.\n"
     ]
    },
    {
     "data": {
      "image/png": "[encoded data removed]",
      "text/plain": [
       "<Figure size 1080x504 with 4 Axes>"
      ]
     },
     "metadata": {
      "needs_background": "light"
     },
     "output_type": "display_data"
    }
   ],
   "source": [
    "fig, axs = plt.subplots(2, 2, figsize=(15,7), sharex=True, sharey=True)\n",
    "axs[0, 0].hist(df_1.Wealth, density=True, bins=30)\n",
    "axs[0, 0].axvline(x=float(avg_1), color=\"Black\")\n",
    "axs[0, 0].set_title('1% Sacrifices')\n",
    "\n",
    "axs[0, 1].hist(df_2.Wealth, density=True, bins=30)\n",
    "axs[0, 1].axvline(x=float(avg_2), color=\"Black\")\n",
    "axs[0, 1].set_title('2% Sacrifices')\n",
    "\n",
    "axs[1, 0].hist(df_3.Wealth, density=True, bins=30)\n",
    "axs[1, 0].axvline(x=float(avg_3), color=\"Black\")\n",
    "axs[1, 0].set_title('3% Sacrifices')\n",
    "\n",
    "axs[1, 1].hist(df_4.Wealth, density=True, bins=30)\n",
    "axs[1, 1].axvline(x=float(avg_4), color=\"Black\")\n",
    "axs[1, 1].set_title('4% Sacrifices')\n",
    "\n",
    "for ax in axs.flat:\n",
    "    ax.set(xlabel='Wealth', ylabel='Probability')\n",
    "\n",
    "# Hide x labels and tick labels for top plots and y ticks for right plots.\n",
    "for ax in axs.flat:\n",
    "    ax.label_outer()\n",
    "    \n",
    "plt.show()"
   ]
  },
  {
   "cell_type": "code",
   "execution_count": 11,
   "metadata": {
    "scrolled": true
   },
   "outputs": [
    {
     "data": {
      "image/png": "[encoded data removed]",
      "text/plain": [
       "<Figure size 1080x504 with 4 Axes>"
      ]
     },
     "metadata": {
      "needs_background": "light"
     },
     "output_type": "display_data"
    }
   ],
   "source": [
    "mpl.use('svg')\n",
    "\n",
    "fig, axs = plt.subplots(2, 2, figsize=(15,7), sharex=True, sharey=True)\n",
    "axs[0, 0].hist(df_1.Wealth, density=True, bins=30)\n",
    "axs[0, 0].axvline(x=float(avg_1), color=\"Black\")\n",
    "axs[0, 0].set_title('1% Sacrifices')\n",
    "\n",
    "axs[0, 1].hist(df_2.Wealth, density=True, bins=30)\n",
    "axs[0, 1].axvline(x=float(avg_2), color=\"Black\")\n",
    "axs[0, 1].set_title('2% Sacrifices')\n",
    "\n",
    "axs[1, 0].hist(df_3.Wealth, density=True, bins=30)\n",
    "axs[1, 0].axvline(x=float(avg_3), color=\"Black\")\n",
    "axs[1, 0].set_title('3% Sacrifices')\n",
    "\n",
    "axs[1, 1].hist(df_4.Wealth, density=True, bins=30)\n",
    "axs[1, 1].axvline(x=float(avg_4), color=\"Black\")\n",
    "axs[1, 1].set_title('4% Sacrifices')\n",
    "\n",
    "for ax in axs.flat:\n",
    "    ax.set(xlabel='Wealth', ylabel='Probability')\n",
    "\n",
    "# Hide x labels and tick labels for top plots and y ticks for right plots.\n",
    "for ax in axs.flat:\n",
    "    ax.label_outer()\n",
    "    \n",
    "plt.savefig(\"WealthDistributionTaxes.svg\", format=\"svg\")"
   ]
  },
  {
   "cell_type": "code",
   "execution_count": null,
   "metadata": {},
   "outputs": [],
   "source": []
  },
  {
   "cell_type": "code",
   "execution_count": null,
   "metadata": {},
   "outputs": [],
   "source": []
  }
 ],
 "metadata": {
  "kernelspec": {
   "display_name": "Python 3",
   "language": "python",
   "name": "python3"
  },
  "language_info": {
   "codemirror_mode": {
    "name": "ipython",
    "version": 3
   },
   "file_extension": ".py",
   "mimetype": "text/x-python",
   "name": "python",
   "nbconvert_exporter": "python",
   "pygments_lexer": "ipython3",
   "version": "3.7.3"
  }
 },
 "nbformat": 4,
 "nbformat_minor": 2
}
